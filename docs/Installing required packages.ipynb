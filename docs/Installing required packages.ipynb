{
 "metadata": {
  "name": "",
  "signature": "sha256:aee05682a0bf57e0bd159ff1d1d0a7468e79c682b18e62d40bf55abd9dc8d00e"
 },
 "nbformat": 3,
 "nbformat_minor": 0,
 "worksheets": [
  {
   "cells": [
    {
     "cell_type": "heading",
     "level": 1,
     "metadata": {},
     "source": [
      "Installing required packages"
     ]
    },
    {
     "cell_type": "markdown",
     "metadata": {},
     "source": [
      "Bayesian source detection method uses some scientific and graphical visualization packages to function. They are the following :\n",
      "\n",
      "1) Python 2.7\n",
      "\n",
      "2) Numpy\n",
      "\n",
      "3) Scipy\n",
      "\n",
      "4) Ipython\n",
      "\n",
      "5) Matplotlib\n",
      "\n",
      "6) Ipython Notebook"
     ]
    },
    {
     "cell_type": "heading",
     "level": 2,
     "metadata": {},
     "source": [
      "Python 2.7"
     ]
    },
    {
     "cell_type": "markdown",
     "metadata": {},
     "source": [
      "####Windows\n",
      "There are python installers in the following link. Choose the python 2.7 or higher installer as per your configuration\n",
      "\n",
      "    https://www.python.org/download/\n",
      "and also Christoph Gohlke provides pre-built Windows installers for many Python packages, including all of the core SciPy stack.\n",
      "\n",
      "    http://www.lfd.uci.edu/~gohlke/pythonlibs/\n",
      "\n",
      "####Linux\n",
      "\n",
      "Installing python 2.7 on linux can be done in many ways. We can download the zip files from\n",
      "\n",
      "     http://python.org/download/ \n",
      " \n",
      "I found the following link helpful.\n",
      "\n",
      "    http://askubuntu.com/questions/101591/how-do-i-install-python-2-7-2-on-ubuntu\n",
      "\n"
     ]
    },
    {
     "cell_type": "heading",
     "level": 2,
     "metadata": {},
     "source": [
      "Numpy, Scipy, Ipython, Matplotlib, Ipython Notebook  "
     ]
    },
    {
     "cell_type": "markdown",
     "metadata": {},
     "source": [
      "####Windows\n",
      "Find the packages in this link for windows installers.\n",
      "\n",
      "    http://www.lfd.uci.edu/~gohlke/pythonlibs/\n",
      "\n",
      "\n",
      "####Linux\n",
      "\n",
      "In Linux, we can install the above packages easily by running the following command in the terminal\n",
      "\n",
      "    sudo apt-get install python-numpy python-scipy python-matplotlib ipython ipython-notebook"
     ]
    },
    {
     "cell_type": "heading",
     "level": 2,
     "metadata": {},
     "source": [
      "Astropy"
     ]
    },
    {
     "cell_type": "markdown",
     "metadata": {},
     "source": [
      "Astropy is a core package for astronomy.\n",
      "\n",
      "Installation instructions\n",
      "\n",
      "####Windows\n",
      "Find the package in this link for windows installers.\n",
      "\n",
      "    http://www.lfd.uci.edu/~gohlke/pythonlibs/\n",
      "\n",
      "\n",
      "####Linux\n",
      "Using pip\n",
      "\n",
      "To install Astropy with pip, simply run:\n",
      "\n",
      "    pip install --no-deps astropy\n",
      "    \n",
      "To build from source. Visit the following link and follow the instructions     \n",
      "\n",
      "    https://github.com/astropy/astropy"
     ]
    },
    {
     "cell_type": "heading",
     "level": 2,
     "metadata": {},
     "source": [
      "Versions used in development"
     ]
    },
    {
     "cell_type": "markdown",
     "metadata": {},
     "source": [
      "Python - 2.7\n",
      "\n",
      "Numpy - 1.8.0\n",
      "\n",
      "Ipython - 2.1.0\n",
      "\n",
      "Scipy - 0.14.0\n",
      "\n",
      "Astropy - 0.3.2\n",
      "\n",
      "Matplotlib - 1.3.1"
     ]
    },
    {
     "cell_type": "code",
     "collapsed": false,
     "input": [],
     "language": "python",
     "metadata": {},
     "outputs": []
    }
   ],
   "metadata": {}
  }
 ]
}