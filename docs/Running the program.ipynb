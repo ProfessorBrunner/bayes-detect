{
 "metadata": {
  "name": "",
  "signature": "sha256:e4df6d930ad5f14a4a6f74cb439c34c10ac843dca08eb42abf4c57def5216f91"
 },
 "nbformat": 3,
 "nbformat_minor": 0,
 "worksheets": [
  {
   "cells": [
    {
     "cell_type": "heading",
     "level": 1,
     "metadata": {},
     "source": [
      "Runnning the program"
     ]
    },
    {
     "cell_type": "markdown",
     "metadata": {},
     "source": [
      "The program can be run in two ways. One is \"Manual\" mode and another is \"ipython\" mode\n",
      "\n",
      "###Manual\n",
      "\n",
      "Here we can manually set the configuration to use in the sampling procedure. There is a file named \"config.cfg\" in \"Src\" folder which contains the values on which the program depends. The contents are shown here\n",
      "\n",
      "    #Configuration file for the sampler. Contains image path , prior bounds, Type of sampler, Number of active points etc..,\n",
      "\n",
      "    # Path of the Image to be used\n",
      "    IMAGE_PATH=C:/Users/chaithuzz2/Desktop/Bayes_detect/assets/simulated_images/multinest_toy_noised\n",
      "\n",
      "    OUTPUT_DATA_PATH=C:/Users/chaithuzz2/Desktop/Bayes_detect/output/samples_DB_test_6.dat\n",
      "\n",
      "    # Prior bounds\n",
      "    X_PRIOR_UPPER=200.0\n",
      "    X_PRIOR_LOWER=0.0\n",
      "\n",
      "    Y_PRIOR_UPPER=200.0\n",
      "    Y_PRIOR_LOWER=0.0\n",
      "\n",
      "    A_PRIOR_UPPER=12.0\n",
      "    A_PRIOR_LOWER=1.0\n",
      "\n",
      "    R_PRIOR_UPPER=9.0\n",
      "    R_PRIOR_LOWER=2.0\n",
      "\n",
      "    STOP_BY_EVIDENCE=0  \n",
      "\n",
      "    #noise rms\n",
      "    NOISE=1.0 \n",
      "\n",
      "    #Parameters for DBSCAN\n",
      "    EPS=10\n",
      "    MINPTS=10\n",
      "\n",
      "    # Sampler type:  \"metropolis\" or \"clustered_ellipsoidal\" or \"uniform\"\n",
      "    SAMPLER=clustered_ellipsoidal\n",
      "\n",
      "    # Number of active points for the nested sampler method\n",
      "    ACTIVE_POINTS=1200\n",
      "\n",
      "    # Maximum number of iterations\n",
      "    MAX_ITER=13000\n",
      "\n",
      "    # Dispersion to use in metropolis\n",
      "    DISPERSION=8.0\n",
      "\n",
      "set the values as per the need without adding extra space.     \n",
      "\n",
      "----\n",
      "After setting up the config file. There is a .py file main.py which is repsonsible for making the source and running the source detection. Run the following command \n",
      "    \n",
      "    python main.py"
     ]
    },
    {
     "cell_type": "markdown",
     "metadata": {},
     "source": [
      "###Ipython\n",
      "\n",
      "We can also see the working of the program in ipython notebook. Run the following command to open it and explore.\n",
      "\n",
      "    ipython notebook Bayesian_Source_Detection.ipynb\n",
      "    \n",
      "##Output\n",
      "The program outputs posterior samples with relevant information. These are stored in the folder named \"output\""
     ]
    },
    {
     "cell_type": "code",
     "collapsed": false,
     "input": [],
     "language": "python",
     "metadata": {},
     "outputs": []
    }
   ],
   "metadata": {}
  }
 ]
}