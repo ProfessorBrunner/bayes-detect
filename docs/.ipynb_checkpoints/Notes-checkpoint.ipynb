{
 "metadata": {
  "name": "",
  "signature": "sha256:0ca44d58703fa4e8ff9a2aedb508d59ebc81cad7785d8d3875745939f81e4c23"
 },
 "nbformat": 3,
 "nbformat_minor": 0,
 "worksheets": [
  {
   "cells": [
    {
     "cell_type": "heading",
     "level": 1,
     "metadata": {},
     "source": [
      "Some Notes"
     ]
    },
    {
     "cell_type": "markdown",
     "metadata": {},
     "source": [
      "The following are some of the notes and tips that I learnt while developing the library."
     ]
    },
    {
     "cell_type": "heading",
     "level": 2,
     "metadata": {},
     "source": [
      "1. Number of Live points"
     ]
    },
    {
     "cell_type": "markdown",
     "metadata": {},
     "source": [
      "Number of live points we choose for the nested sampling procedure is an important factor. All the sampling methods used require that there are atleast a few number of points in the parameter space that may contain an object. This is required to effectively sample the space where an object might occur. If we don't take enough number of points we may end up with only the brightest object. The thumb rule I followed for various method are as follows.\n",
      "\n",
      "1. Uniform Sampling - Greater than 3000 for a box of 200 X 200 for 25,000 iterations.\n",
      "\n",
      "2. Uniform Metropolis Sampling - Greater than 3000 for a box of 200 X 200 for 25,000 iterations.\n",
      "\n",
      "3. Clustered Ellipsoidal Sampling - 1000 - 1200 for a box of 200 X 200 for 14,000 iterations. \n",
      "\n"
     ]
    },
    {
     "cell_type": "heading",
     "level": 2,
     "metadata": {},
     "source": [
      "2. Stopping Criterion"
     ]
    },
    {
     "cell_type": "markdown",
     "metadata": {},
     "source": [
      "The nested sampling procedure provides two ways of termination.\n",
      "\n",
      "####a. Running for a Maximum number of iterations\n",
      "Number of iterations for which we need to run the sampling procedure depends on the number of live points we use. It is recommended to get atleast 14000 samples for object detection by following the above thumb rule of live points. We can set it in the Config file.\n",
      "\n",
      "####b. Maximum evidence contribution at an iteration\n",
      "We can also terminate the loop when the maximum evidence contribution possible from the remaining prior volume i.e $\\Delta Z_i = L_{max} X_i$ (where $L_{max}$ is the maximum likelihood(of all live points) in the current nested sampling phase) becomes less than a user defined value. To use this, a flag is provided named \"STOP_BY_EVIDENCE\" in the config file. We can enable it and use this condition. The default value is set to 0.1(in log evidence).    "
     ]
    },
    {
     "cell_type": "heading",
     "level": 2,
     "metadata": {},
     "source": [
      "3. minPts and eps for DBSCAN clustering"
     ]
    },
    {
     "cell_type": "markdown",
     "metadata": {},
     "source": [
      "In the clustered ellipsoidal sampling procedure, we use a density based clustering method which clusters according to physical proximity of the points. This clustering procedure depends on two paramteres :\n",
      "\n",
      "####a. eps\n",
      "The maximum distance between two samples for them to be considered as in the same neighborhood. \"eps\" is normally set like this. If we have an image with area $A$ and $N$ particles. The mean particle separation(mps) is defined as follows. \n",
      "\n",
      "\\begin{align} mps \\approx \\sqrt{\\frac {A}{N}} \\end{align}\n",
      "\n",
      "We take eps relative to mps like this\n",
      "\n",
      "\\begin{align} eps = f.{mps} \\end{align}\n",
      "\n",
      "f is a multiplication factor between 0 and 1.  \n",
      "\n",
      "####b. minPts\n",
      "The number of samples in a neighborhood for a point to be considered as a core point. We use 10-20 as of now. This is to be explored more and a general way has to be derived to pick minPts. "
     ]
    },
    {
     "cell_type": "heading",
     "level": 2,
     "metadata": {},
     "source": [
      "4. Amplitude difference between the sources present in the image"
     ]
    },
    {
     "cell_type": "markdown",
     "metadata": {},
     "source": [
      "While detecting objects using nested sampling procedure, the range of amplitudes of objects to be detected is an important factor I found. The ratio between the brightest and the faintest objects shouldn't exceed 20-30. If the ratio is very high, as the sampling procedure proceeds the live points get replaced by the points belonging to the brightest object more often and this may lead to not getting sufficient samples from other areas to perform clustering. This problem has to be solved by exploring different ways to sample from a set of ellipsoids."
     ]
    },
    {
     "cell_type": "code",
     "collapsed": false,
     "input": [],
     "language": "python",
     "metadata": {},
     "outputs": []
    }
   ],
   "metadata": {}
  }
 ]
}