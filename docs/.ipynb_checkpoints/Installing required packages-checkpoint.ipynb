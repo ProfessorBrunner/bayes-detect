{
 "metadata": {
  "name": "",
  "signature": "sha256:0d6fe1c72d0fb472921a5dae51b41c554b782c9ae39edaf38b966abd30b08c13"
 },
 "nbformat": 3,
 "nbformat_minor": 0,
 "worksheets": [
  {
   "cells": [
    {
     "cell_type": "heading",
     "level": 1,
     "metadata": {},
     "source": [
      "Installing required packages"
     ]
    },
    {
     "cell_type": "markdown",
     "metadata": {},
     "source": [
      "Bayesian source detection method uses some scientific and graphical visualization packages to function. They are the following :\n",
      "\n",
      "1) Python 2.7\n",
      "\n",
      "2) Numpy\n",
      "\n",
      "3) Scipy\n",
      "\n",
      "4) Ipython\n",
      "\n",
      "5) Matplotlib\n",
      "\n",
      "6) Ipython Notebook\n",
      "\n",
      "7) Scikit learn"
     ]
    },
    {
     "cell_type": "heading",
     "level": 2,
     "metadata": {},
     "source": [
      "Python 2.7"
     ]
    },
    {
     "cell_type": "markdown",
     "metadata": {},
     "source": [
      "####Windows\n",
      "There are python installers in the following link. Choose the python 2.7 or higher installer as per your configuration\n",
      "\n",
      "    https://www.python.org/download/\n",
      "and also Christoph Gohlke provides pre-built Windows installers for many Python packages, including all of the core SciPy stack.\n",
      "\n",
      "    http://www.lfd.uci.edu/~gohlke/pythonlibs/\n",
      "\n",
      "####Linux\n",
      "\n",
      "Installing python 2.7 on linux can be done in many ways. We can download the zip files from\n",
      "\n",
      "     http://python.org/download/ \n",
      " \n",
      "I found the following link helpful.\n",
      "\n",
      "    http://askubuntu.com/questions/101591/how-do-i-install-python-2-7-2-on-ubuntu\n",
      "\n"
     ]
    },
    {
     "cell_type": "heading",
     "level": 2,
     "metadata": {},
     "source": [
      "Numpy, Scipy, Ipython, Matplotlib, Ipython Notebook  "
     ]
    },
    {
     "cell_type": "markdown",
     "metadata": {},
     "source": [
      "####Windows\n",
      "Find the packages in this link for windows installers.\n",
      "\n",
      "    http://www.lfd.uci.edu/~gohlke/pythonlibs/\n",
      "\n",
      "\n",
      "####Linux\n",
      "\n",
      "In Linux, we can install the above packages easily by running the following command in the terminal\n",
      "\n",
      "    sudo apt-get install python-numpy python-scipy python-matplotlib ipython ipython-notebook"
     ]
    },
    {
     "cell_type": "heading",
     "level": 2,
     "metadata": {},
     "source": [
      "Astropy"
     ]
    },
    {
     "cell_type": "markdown",
     "metadata": {},
     "source": [
      "Astropy is a core package for astronomy.\n",
      "\n",
      "Installation instructions\n",
      "\n",
      "####Windows\n",
      "Find the package in this link for windows installers.\n",
      "\n",
      "    http://www.lfd.uci.edu/~gohlke/pythonlibs/\n",
      "\n",
      "\n",
      "####Linux\n",
      "Using pip\n",
      "\n",
      "To install Astropy with pip, simply run:\n",
      "\n",
      "    pip install --no-deps astropy\n",
      "    \n",
      "To build from source. Visit the following link and follow the instructions     \n",
      "\n",
      "    https://github.com/astropy/astropy"
     ]
    },
    {
     "cell_type": "heading",
     "level": 2,
     "metadata": {},
     "source": [
      "Scikit Learn"
     ]
    },
    {
     "cell_type": "markdown",
     "metadata": {},
     "source": [
      "Scikit learn is a package for machine learning operations\n",
      "\n",
      "####Install instructions\n",
      "Please follow the instructions in the following Link\n",
      "\n",
      "    http://scikit-learn.org/stable/install.html"
     ]
    },
    {
     "cell_type": "heading",
     "level": 2,
     "metadata": {},
     "source": [
      "Versions used in development"
     ]
    },
    {
     "cell_type": "markdown",
     "metadata": {},
     "source": [
      "Python - 2.7\n",
      "\n",
      "Numpy - 1.8.0\n",
      "\n",
      "Ipython - 2.1.0\n",
      "\n",
      "Scipy - 0.14.0\n",
      "\n",
      "Astropy - 0.3.2\n",
      "\n",
      "Matplotlib - 1.3.1\n",
      "\n",
      "Scikit-learn - 0.13"
     ]
    },
    {
     "cell_type": "code",
     "collapsed": false,
     "input": [],
     "language": "python",
     "metadata": {},
     "outputs": []
    }
   ],
   "metadata": {}
  }
 ]
}