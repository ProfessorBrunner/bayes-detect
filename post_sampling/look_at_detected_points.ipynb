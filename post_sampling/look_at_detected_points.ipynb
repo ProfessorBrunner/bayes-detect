{
 "cells": [
  {
   "cell_type": "code",
   "execution_count": 2,
   "metadata": {
    "collapsed": true
   },
   "outputs": [],
   "source": [
    "import numpy as np\n",
    "import matplotlib.pyplot as plt\n",
    "from ConfigParser import SafeConfigParser\n",
    "\n",
    "%matplotlib inline"
   ]
  },
  {
   "cell_type": "markdown",
   "metadata": {},
   "source": [
    "Read the location of the detected points from the config file"
   ]
  },
  {
   "cell_type": "code",
   "execution_count": 3,
   "metadata": {
    "collapsed": false
   },
   "outputs": [
    {
     "data": {
      "text/plain": [
       "['../config.ini']"
      ]
     },
     "execution_count": 3,
     "metadata": {},
     "output_type": "execute_result"
    }
   ],
   "source": [
    "parser = SafeConfigParser()\n",
    "parser.read(\"../config.ini\")"
   ]
  },
  {
   "cell_type": "code",
   "execution_count": 37,
   "metadata": {
    "collapsed": true
   },
   "outputs": [],
   "source": [
    "prefix = parser.get(\"Misc\", \"prefix\")\n",
    "location = parser.get(\"Misc\", \"location\")\n",
    "width = int(parser.get(\"Image\", \"width\"))\n",
    "height = int(parser.get(\"Image\", \"height\"))\n",
    "\n",
    "output_folder = location + \"/\" + prefix \n",
    "detected_processed_filename = prefix + \"_processed_\" + parser.get(\"Detection\", \"detected_filename\")\n",
    "\n",
    "fn = output_folder + \"/\" + detected_processed_filename"
   ]
  },
  {
   "cell_type": "markdown",
   "metadata": {},
   "source": [
    "Load the detected points into a numpy array"
   ]
  },
  {
   "cell_type": "code",
   "execution_count": 38,
   "metadata": {
    "collapsed": false
   },
   "outputs": [],
   "source": [
    "detected = np.loadtxt(fn, delimiter=\",\")"
   ]
  },
  {
   "cell_type": "code",
   "execution_count": 24,
   "metadata": {
    "collapsed": true
   },
   "outputs": [],
   "source": [
    "#taken from image_generator/test_image.py\n",
    "def make_source(src_array, height, width):\n",
    "\n",
    "    \"\"\" \n",
    "    Returns the source image with numpy format\n",
    "\n",
    "    Parameters\n",
    "    ----------\n",
    "    src_array : array\n",
    "        Array of source objects in format [X,Y,A,R]\n",
    "    height : int\n",
    "        height of the image\n",
    "    width : int\n",
    "        width of the image\n",
    "    display : bool\n",
    "        whether or not to display the plot\n",
    "\n",
    "    Returns\n",
    "    -------\n",
    "    z : array\n",
    "        Source image in numpy format\n",
    "    \"\"\"\n",
    "\n",
    "    x = np.arange(0, width)\n",
    "    y = np.arange(0, height)\n",
    "    xx, yy = np.meshgrid(x, y, sparse=True)\n",
    "    z = np.zeros((height,width),float)\n",
    "    for i in src_array:\n",
    "        z+= i[2]*np.exp(-1*((xx-i[0])**2+(yy-i[1])**2)/(2*(i[3]**2)))\n",
    "    return z"
   ]
  },
  {
   "cell_type": "markdown",
   "metadata": {},
   "source": [
    "Create a image from that"
   ]
  },
  {
   "cell_type": "code",
   "execution_count": 39,
   "metadata": {
    "collapsed": false
   },
   "outputs": [],
   "source": [
    "img = make_source(detected[:,:4], height, width)"
   ]
  },
  {
   "cell_type": "markdown",
   "metadata": {},
   "source": [
    "Plot the image"
   ]
  },
  {
   "cell_type": "code",
   "execution_count": 40,
   "metadata": {
    "collapsed": false
   },
   "outputs": [
    {
     "data": {
      "text/plain": [
       "<matplotlib.image.AxesImage at 0x109274dd0>"
      ]
     },
     "execution_count": 40,
     "metadata": {},
     "output_type": "execute_result"
    },
    {
     "data": {
      "image/png": "[encoded data removed]",
      "text/plain": [
       "<matplotlib.figure.Figure at 0x10b70f750>"
      ]
     },
     "metadata": {},
     "output_type": "display_data"
    }
   ],
   "source": [
    "plt.imshow(np.flipud(img))"
   ]
  }
 ],
 "metadata": {
  "kernelspec": {
   "display_name": "Python 2",
   "language": "python",
   "name": "python2"
  },
  "language_info": {
   "codemirror_mode": {
    "name": "ipython",
    "version": 2
   },
   "file_extension": ".py",
   "mimetype": "text/x-python",
   "name": "python",
   "nbconvert_exporter": "python",
   "pygments_lexer": "ipython2",
   "version": "2.7.9"
  }
 },
 "nbformat": 4,
 "nbformat_minor": 0
}
