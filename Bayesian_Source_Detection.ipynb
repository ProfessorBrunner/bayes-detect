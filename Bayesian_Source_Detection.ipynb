{
 "metadata": {
  "name": "",
  "signature": "sha256:d09dccd935a2268ec851df304a72d8f10863ec237bc5a0669c3127408047d190"
 },
 "nbformat": 3,
 "nbformat_minor": 0,
 "worksheets": [
  {
   "cells": [
    {
     "cell_type": "heading",
     "level": 1,
     "metadata": {},
     "source": [
      "Multimodal nested sampling applied to Bayesian source detection and characterization "
     ]
    },
    {
     "cell_type": "markdown",
     "metadata": {},
     "source": [
      "The following is an implementation of multimodal nested sampling method as discussed by Feroz and Hobson and also Sivia and skilling. This method also borrows some ideas from Shaw et al.  "
     ]
    },
    {
     "cell_type": "markdown",
     "metadata": {},
     "source": [
      "First we need to import some modules from the project folder."
     ]
    },
    {
     "cell_type": "code",
     "collapsed": false,
     "input": [
      "import plot\n",
      "import sources"
     ],
     "language": "python",
     "metadata": {},
     "outputs": []
    },
    {
     "cell_type": "heading",
     "level": 2,
     "metadata": {},
     "source": [
      "In-line plotting with matplotlib"
     ]
    },
    {
     "cell_type": "markdown",
     "metadata": {},
     "source": [
      "Helps avoid multiple windows for different plots"
     ]
    },
    {
     "cell_type": "code",
     "collapsed": false,
     "input": [
      "%matplotlib inline"
     ],
     "language": "python",
     "metadata": {},
     "outputs": []
    },
    {
     "cell_type": "heading",
     "level": 2,
     "metadata": {},
     "source": [
      "Simulated Image for testing"
     ]
    },
    {
     "cell_type": "markdown",
     "metadata": {},
     "source": [
      "Here we assume sources that we are interested in, are circulary symmetric gaussian objects parametrised in terms of (X,Y) the center of the source, A the amplitude and R the spatial extent of the source. Any point inside the source will obey the following function.\n",
      "\n",
      "\\begin{align} \\tau(x,y) = Aexp[- \\frac {(x-X)^2+(y-Y)^2}{2R^2}]\\end{align}\n",
      "\n",
      "Therefore we represent an object with four parameters [X,Y,A,R]. The following object data is the one which was used to demnonstrate in the multinest paper by Feroz and Hobson. There are 8 objects in total.  "
     ]
    },
    {
     "cell_type": "code",
     "collapsed": false,
     "input": [
      "SrcArray = [[43.71, 22.91, 10.54, 3.34],\n",
      "            [101.62, 40.60, 1.37, 3.40],\n",
      "            [92.63, 110.56, 1.81, 3.66],\n",
      "            [183.60, 85.90, 1.23, 5.06],\n",
      "            [34.12, 162.54, 1.95, 6.02],\n",
      "            [153.87, 169.18, 1.06, 6.61],\n",
      "            [155.54, 32.14, 1.46, 4.05],\n",
      "            [130.56, 183.48, 1.63, 4.11]]\n",
      "\n",
      "data_map = plot.make_source(src_array = SrcArray,height=200, width=200)"
     ],
     "language": "python",
     "metadata": {},
     "outputs": []
    },
    {
     "cell_type": "heading",
     "level": 2,
     "metadata": {},
     "source": [
      "Adding Noise"
     ]
    },
    {
     "cell_type": "markdown",
     "metadata": {},
     "source": [
      "We add independent gaussian noise of 2 units RMS to the data map. Now apart from the brightest object all the others are barely visible. The noise added image will be stored in \"simulated_images\" folder with the name \"multinest_toy_noised\" for use in the sampler. "
     ]
    },
    {
     "cell_type": "code",
     "collapsed": false,
     "input": [
      "noise = 2.0\n",
      "data_map = plot.add_gaussian_noise(mean=0,sd=noise,data=data_map)\n",
      "sources.write(data_map, \"simulated_images\\multinest_noised\")"
     ],
     "language": "python",
     "metadata": {},
     "outputs": []
    },
    {
     "cell_type": "heading",
     "level": 2,
     "metadata": {},
     "source": [
      "Prior range"
     ]
    },
    {
     "cell_type": "markdown",
     "metadata": {},
     "source": [
      "The prior on the parameters is assumed to be separable, so that\n",
      "\n",
      "\\begin{align} \\pi(source) = \\pi(X) \\pi(Y) \\pi(A) \\pi(R) \\end{align}\n",
      "\n",
      "The priors on X and Y are taken to be the uniform distribution U(0, 200), whereas the priors on A and R are taken as the uniform\n",
      "distributions U(1, 12.5) and U(2, 9) respectively."
     ]
    },
    {
     "cell_type": "code",
     "collapsed": false,
     "input": [
      "prior_array = [[0.0,200.0],[0.0,200.0],[1.0,12.5],[2.0,9.0]]"
     ],
     "language": "python",
     "metadata": {},
     "outputs": []
    },
    {
     "cell_type": "heading",
     "level": 2,
     "metadata": {},
     "source": [
      "Uniform Metropolis Nested sampling"
     ]
    },
    {
     "cell_type": "markdown",
     "metadata": {},
     "source": [
      "This method will run nested sampling procedure according to the metropolis hastings principle. It will output the X,Y histogram plots of posetrior samples and active points along with their XY scatter plots. Note that I've inverted the Y axis in the below plots to make them look like the image above. true_Y_value = height - Y_value_in_the_plot   "
     ]
    },
    {
     "cell_type": "code",
     "collapsed": false,
     "input": [
      "sources.run_source_detect(samples = 4000, iterations = 25000, sample_method = \"metropolis\", prior = prior_array, noise_rms = noise)"
     ],
     "language": "python",
     "metadata": {},
     "outputs": []
    },
    {
     "cell_type": "markdown",
     "metadata": {},
     "source": [
      "From the above scatter plot of posterior samples, we can see the 8 objects of high likelihood clearly and also from the scatter plot of active points, we can see that the points converged to the brightest star. The peaks(centers of the objects) can be inferred from X and Y histogram plots of the posterior samples. In our simulated image the ratio of amplitudes of the brightest star to all the others is tenfold and it was a considerable challenge for the sampler. As this ratio increases it becomes more difficult to detect all the sources.      "
     ]
    },
    {
     "cell_type": "code",
     "collapsed": false,
     "input": [],
     "language": "python",
     "metadata": {},
     "outputs": []
    }
   ],
   "metadata": {}
  }
 ]
}